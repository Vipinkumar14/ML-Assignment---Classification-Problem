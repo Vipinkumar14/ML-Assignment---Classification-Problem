{
 "cells": [
  {
   "cell_type": "code",
   "execution_count": 3,
   "id": "9df11ecd-2fa6-4e7d-9b06-9febe73b5b83",
   "metadata": {},
   "outputs": [
    {
     "name": "stdout",
     "output_type": "stream",
     "text": [
      "mean radius                0\n",
      "mean texture               0\n",
      "mean perimeter             0\n",
      "mean area                  0\n",
      "mean smoothness            0\n",
      "mean compactness           0\n",
      "mean concavity             0\n",
      "mean concave points        0\n",
      "mean symmetry              0\n",
      "mean fractal dimension     0\n",
      "radius error               0\n",
      "texture error              0\n",
      "perimeter error            0\n",
      "area error                 0\n",
      "smoothness error           0\n",
      "compactness error          0\n",
      "concavity error            0\n",
      "concave points error       0\n",
      "symmetry error             0\n",
      "fractal dimension error    0\n",
      "worst radius               0\n",
      "worst texture              0\n",
      "worst perimeter            0\n",
      "worst area                 0\n",
      "worst smoothness           0\n",
      "worst compactness          0\n",
      "worst concavity            0\n",
      "worst concave points       0\n",
      "worst symmetry             0\n",
      "worst fractal dimension    0\n",
      "dtype: int64\n",
      "Data preprocessing completed.\n"
     ]
    }
   ],
   "source": [
    "import pandas as pd\n",
    "from sklearn import datasets\n",
    "from sklearn.preprocessing import StandardScaler\n",
    "from sklearn.model_selection import train_test_split\n",
    "from sklearn.impute import SimpleImputer\n",
    "\n",
    "# Load breast cancer dataset\n",
    "cancer = datasets.load_breast_cancer()\n",
    "data = pd.DataFrame(data=cancer.data, columns=cancer.feature_names)\n",
    "target = cancer.target  # This contains the labels (0 or 1 for malignant or benign)\n",
    "\n",
    "# Check for missing values (if any)\n",
    "print(data.isnull().sum())\n",
    "\n",
    "# If there are any missing values, impute them (we'll use mean imputation here)\n",
    "imputer = SimpleImputer(strategy='mean')\n",
    "data_imputed = pd.DataFrame(imputer.fit_transform(data), columns=data.columns)\n",
    "\n",
    "# Feature scaling (important for algorithms like SVM and k-NN)\n",
    "scaler = StandardScaler()\n",
    "data_scaled = pd.DataFrame(scaler.fit_transform(data_imputed), columns=data.columns)\n",
    "\n",
    "# Split into train and test sets\n",
    "X_train, X_test, y_train, y_test = train_test_split(data_scaled, target, test_size=0.3, random_state=42)\n",
    "\n",
    "print(\"Data preprocessing completed.\")\n"
   ]
  },
  {
   "cell_type": "code",
   "execution_count": 5,
   "id": "0cb17c8f-a415-4175-8db1-c62611d64733",
   "metadata": {},
   "outputs": [
    {
     "name": "stdout",
     "output_type": "stream",
     "text": [
      "Logistic Regression: 0.9825\n",
      "Decision Tree: 0.9240\n",
      "Random Forest: 0.9649\n",
      "SVM: 0.9708\n",
      "k-NN: 0.9591\n"
     ]
    }
   ],
   "source": [
    "from sklearn.linear_model import LogisticRegression\n",
    "from sklearn.tree import DecisionTreeClassifier\n",
    "from sklearn.ensemble import RandomForestClassifier\n",
    "from sklearn.svm import SVC\n",
    "from sklearn.neighbors import KNeighborsClassifier\n",
    "from sklearn.metrics import accuracy_score\n",
    "\n",
    "# Initialize classifiers\n",
    "models = {\n",
    "    'Logistic Regression': LogisticRegression(),\n",
    "    'Decision Tree': DecisionTreeClassifier(),\n",
    "    'Random Forest': RandomForestClassifier(),\n",
    "    'SVM': SVC(),\n",
    "    'k-NN': KNeighborsClassifier()\n",
    "}\n",
    "\n",
    "# Fit the models and evaluate\n",
    "results = {}\n",
    "\n",
    "for name, model in models.items():\n",
    "    model.fit(X_train, y_train)  # Train the model\n",
    "    y_pred = model.predict(X_test)  # Make predictions\n",
    "    accuracy = accuracy_score(y_test, y_pred)  # Evaluate accuracy\n",
    "    results[name] = accuracy\n",
    "\n",
    "# Print accuracy results\n",
    "for name, accuracy in results.items():\n",
    "    print(f\"{name}: {accuracy:.4f}\")\n"
   ]
  },
  {
   "cell_type": "code",
   "execution_count": 7,
   "id": "dd5ad999-77c9-49fd-ad47-065dee9053a0",
   "metadata": {},
   "outputs": [
    {
     "name": "stdout",
     "output_type": "stream",
     "text": [
      "\n",
      "Model Comparison (Sorted by Accuracy):\n",
      "Logistic Regression: 0.9825\n",
      "SVM: 0.9708\n",
      "Random Forest: 0.9649\n",
      "k-NN: 0.9591\n",
      "Decision Tree: 0.9240\n",
      "\n",
      "Best Performing Model: Logistic Regression with Accuracy: 0.9825\n",
      "Worst Performing Model: Decision Tree with Accuracy: 0.9240\n"
     ]
    }
   ],
   "source": [
    "# Display model performance results\n",
    "sorted_results = sorted(results.items(), key=lambda x: x[1], reverse=True)\n",
    "\n",
    "print(\"\\nModel Comparison (Sorted by Accuracy):\")\n",
    "for name, accuracy in sorted_results:\n",
    "    print(f\"{name}: {accuracy:.4f}\")\n",
    "\n",
    "# Identify the best and worst performing models\n",
    "best_model = sorted_results[0]\n",
    "worst_model = sorted_results[-1]\n",
    "\n",
    "print(f\"\\nBest Performing Model: {best_model[0]} with Accuracy: {best_model[1]:.4f}\")\n",
    "print(f\"Worst Performing Model: {worst_model[0]} with Accuracy: {worst_model[1]:.4f}\")\n"
   ]
  },
  {
   "cell_type": "code",
   "execution_count": null,
   "id": "1f0ca8ec-4161-4774-811f-78edd3eff571",
   "metadata": {},
   "outputs": [],
   "source": []
  }
 ],
 "metadata": {
  "kernelspec": {
   "display_name": "Python 3 (ipykernel)",
   "language": "python",
   "name": "python3"
  },
  "language_info": {
   "codemirror_mode": {
    "name": "ipython",
    "version": 3
   },
   "file_extension": ".py",
   "mimetype": "text/x-python",
   "name": "python",
   "nbconvert_exporter": "python",
   "pygments_lexer": "ipython3",
   "version": "3.12.4"
  }
 },
 "nbformat": 4,
 "nbformat_minor": 5
}
